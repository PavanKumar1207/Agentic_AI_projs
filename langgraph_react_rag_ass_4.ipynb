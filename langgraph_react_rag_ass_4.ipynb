{
 "cells": [
  {
   "cell_type": "markdown",
   "id": "aa507484",
   "metadata": {},
   "source": [
    "Assignment:4\n",
    "1. you have to create one supervisor node.\n",
    "2. create one router function\n",
    "3. create three more node\n",
    "\n",
    "    3.1. llm call (llm node)\n",
    "\n",
    "    3.2. RAG (rag node)\n",
    "    \n",
    "    3.3. web crawler(fetch the info in realtime from internet)\n",
    "\n",
    "4. created one more node after this for validation for generated output --> explore the validation part how to do that\n",
    "5. if validation going to be failed in that case again go to supervioser node and then supervisor node will again decide what needs to be call next\n",
    "6. once the validation will pass then only generate the final output\n",
    "\n",
    "submission deadline till 9pm friday\n",
    "\n",
    "submission instruction:\n",
    "create your github repo and keep all the assisgnments over there(in that github repo)\n",
    "i will share one googleform in group after completing your assignment you can share the github link through that google form. "
   ]
  },
  {
   "cell_type": "markdown",
   "id": "db718f23",
   "metadata": {},
   "source": [
    "## RAG"
   ]
  },
  {
   "cell_type": "markdown",
   "id": "c593ef8f",
   "metadata": {},
   "source": [
    "### load docs"
   ]
  },
  {
   "cell_type": "code",
   "execution_count": 1,
   "id": "c0e326b1",
   "metadata": {},
   "outputs": [],
   "source": [
    "from langchain_community.document_loaders import TextLoader, DirectoryLoader\n",
    "\n",
    "loader=DirectoryLoader(\"./data2\",glob=\"*.txt\",loader_cls=TextLoader)\n",
    "documents=loader.load()"
   ]
  },
  {
   "cell_type": "code",
   "execution_count": 2,
   "id": "ed9d8ee3",
   "metadata": {},
   "outputs": [
    {
     "data": {
      "text/plain": [
       "\"ðŸ‡ºðŸ‡¸ Overview of the U.S. Economy\\nThe United States of America possesses the largest economy in the world in terms of nominal GDP, making it the most powerful economic force globally. It operates under a capitalist mixed economy, where the private sector dominates, but the government plays a significant regulatory and fiscal role. With a population of over 335 million people and a high level of technological advancement, the U.S. economy thrives on a foundation of consumer spending, innovation, global trade, and financial services. It has a highly diversified structure with strong sectors in technology, healthcare, finance, real estate, defense, and agriculture.\\n\\nU.S. GDP â€“ Size, Composition, and Global Share\\nAs of 2024, the United Statesâ€™ nominal GDP is estimated to be around $28 trillion USD, accounting for approximately 25% of the global economy. It ranks #1 in the world by nominal GDP, far ahead of China (which ranks 2nd). The U.S. GDP per capita is also among the highest, hovering around $83,000, which indicates a high standard of living and productivity. In terms of Purchasing Power Parity (PPP), the U.S. ranks second, but nominal GDP is considered more reflective of actual economic size and financial influence.\\n\\nThe GDP is predominantly driven by the services sector, which contributes more than 77% to the total GDP. This includes industries such as finance, insurance, real estate, healthcare, education, and information technology. The industrial sector (manufacturing, construction, mining) makes up around 19%, while agriculture, although technologically advanced and export-oriented, contributes only about 1%. Despite its small share in GDP, U.S. agriculture is globally significant in terms of productivity and exports.\\n\\nGDP Growth Trends and Dynamics\\nHistorically, the U.S. economy has enjoyed consistent long-term growth, averaging around 2-3% annually. Post-pandemic, the economy bounced back strongly, but 2022 and 2023 saw rising inflation due to supply chain issues and stimulus-driven demand. In 2024, the U.S. GDP grew at a modest pace of around 2.1%, as the Federal Reserveâ€™s interest rate hikes aimed at controlling inflation also moderated economic expansion. Consumer spending, which makes up nearly 70% of GDP, remains a dominant force in economic stability.\\n\\nThe U.S. maintains its GDP growth through strong innovation, entrepreneurship, and investment in R&D. With companies like Apple, Google, Amazon, Microsoft, and Tesla leading global markets, the U.S. consistently produces high value across sectors, especially in technology and advanced services. Additionally, the economy benefits from intellectual property exports, financial services, and higher education, all of which contribute significantly to GDP through both domestic and international markets.\\n\\nRole in the Global Economy\\nThe U.S. Dollar (USD) is the global reserve currency, held by over 60% of the worldâ€™s central bank reserves. This gives the U.S. an enormous advantage in global trade and borrowing. The U.S. is a key member of international institutions like the World Bank, IMF, G7, G20, and WTO, and plays a central role in setting global economic policy.\\n\\nAs a global innovation hub, the U.S. attracts billions in foreign investment and hosts many of the world's largest and most valuable companies. Its exports include high-tech machinery, aircraft, pharmaceuticals, semiconductors, and financial services, while its imports cover consumer goods, electronics, automobiles, and industrial materials. The trade deficit remains large (around $900 billion in 2024), primarily because the U.S. consumes more than it exports, but its ability to finance this through capital inflows and reserve currency status sustains balance.\\n\\nKey Economic Strengths\\nThe core strength of the U.S. economy lies in its flexible labor market, deep capital markets, technological superiority, and legal system that encourages innovation and property rights. It has a large, highly educated workforce, a diverse immigration pipeline, and access to vast natural resources including oil, gas, coal, and farmland. The presence of top-tier universities and research institutions fuels the knowledge economy, with billions spent annually on R&Dâ€”over $700 billion USD, more than any other country.\\n\\nThe U.S. leads in many critical sectors, including software, biotechnology, aerospace, defense, financial services, and media. Its startup ecosystem, especially in Silicon Valley, produces unicorns and tech giants at a scale unmatched globally. Its financial marketsâ€”particularly Wall Streetâ€”are the most liquid and globally integrated in the world.\\n\\nChallenges and Structural Issues\\nDespite its strength, the U.S. economy faces several serious long-term issues. The national debt has surpassed $34 trillion USD, raising concerns about fiscal sustainability, especially as interest payments alone are growing rapidly. The income and wealth inequality gap has widened, with a small percentage of Americans owning a disproportionate share of wealth. Access to affordable healthcare, housing shortages, and a declining labor force participation in some sectors are additional structural issues.\\n\\nAnother growing concern is political polarization, which often stalls crucial economic reforms and budget agreements, as seen in recurrent debt ceiling crises. The U.S. also faces challenges from global competition, especially from China in areas like AI, semiconductors, and green technology. Moreover, climate change, cybersecurity threats, and geopolitical risks (like Ukraine and Taiwan conflicts) add layers of vulnerability to economic planning.\\n\\nFuture Outlook (2025â€“2030)\\nLooking forward, the U.S. economy is expected to grow at a moderate pace, powered by innovation in AI, green energy, robotics, biotech, and quantum computing. The Biden administrationâ€™s Inflation Reduction Act and CHIPS Act are pumping massive investments into semiconductors, clean energy, and infrastructure. There is a strong push for reshoring of manufacturing, especially in critical sectors like chips, pharmaceuticals, and batteries.\\n\\nHowever, economic leadership will depend on managing the national debt, reforming entitlement programs, upgrading infrastructure, and ensuring the next generation is equipped with digital-age skills. If the U.S. can handle these challenges, it is well-positioned to remain a global economic powerhouse through 2030 and beyond.\\n\\nFinal Summary\\nThe U.S. economy remains the engine of global growth, backed by unmatched innovation, financial dominance, and a strong institutional framework. Its $28 trillion GDP and influence over global finance, trade, and technology make it the centerpiece of the modern economic system. Yet, rising debt, inequality, political gridlock, and competition from emerging powers demand careful policy navigation. If successfully addressed, the U.S. will continue to dominate the global economy well into the future.\""
      ]
     },
     "execution_count": 2,
     "metadata": {},
     "output_type": "execute_result"
    }
   ],
   "source": [
    "documents[0].page_content"
   ]
  },
  {
   "cell_type": "code",
   "execution_count": 3,
   "id": "ecc8b972",
   "metadata": {},
   "outputs": [],
   "source": [
    "from langchain.text_splitter import RecursiveCharacterTextSplitter\n",
    "\n",
    "text_splitter = RecursiveCharacterTextSplitter(\n",
    "    chunk_size=200,\n",
    "    chunk_overlap=50,\n",
    "    length_function=len,\n",
    ")"
   ]
  },
  {
   "cell_type": "code",
   "execution_count": 4,
   "id": "484538c7",
   "metadata": {},
   "outputs": [],
   "source": [
    "documents=text_splitter.split_documents(documents)"
   ]
  },
  {
   "cell_type": "markdown",
   "id": "06e4c4fd",
   "metadata": {},
   "source": [
    "### defining the embedding model"
   ]
  },
  {
   "cell_type": "code",
   "execution_count": 5,
   "id": "8ea3d473",
   "metadata": {},
   "outputs": [
    {
     "data": {
      "text/plain": [
       "True"
      ]
     },
     "execution_count": 5,
     "metadata": {},
     "output_type": "execute_result"
    }
   ],
   "source": [
    "from dotenv import load_dotenv\n",
    "load_dotenv()"
   ]
  },
  {
   "cell_type": "code",
   "execution_count": 6,
   "id": "cd24b822",
   "metadata": {},
   "outputs": [
    {
     "data": {
      "text/plain": [
       "768"
      ]
     },
     "execution_count": 6,
     "metadata": {},
     "output_type": "execute_result"
    }
   ],
   "source": [
    "from langchain_google_genai import GoogleGenerativeAIEmbeddings\n",
    "\n",
    "embeddings = GoogleGenerativeAIEmbeddings(model=\"models/embedding-001\")\n",
    "len(embeddings.embed_query(\"Hello, world!\"))"
   ]
  },
  {
   "cell_type": "markdown",
   "id": "daa6c482",
   "metadata": {},
   "source": [
    "### Defining the llm for rag"
   ]
  },
  {
   "cell_type": "code",
   "execution_count": 7,
   "id": "86a1551f",
   "metadata": {},
   "outputs": [
    {
     "data": {
      "text/plain": [
       "AIMessage(content='Hello there! How can I help you today?', additional_kwargs={}, response_metadata={'prompt_feedback': {'block_reason': 0, 'safety_ratings': []}, 'finish_reason': 'STOP', 'model_name': 'gemini-2.0-flash', 'safety_ratings': []}, id='run--8a6ff159-8739-473a-b3a7-77db3189e1b5-0', usage_metadata={'input_tokens': 4, 'output_tokens': 11, 'total_tokens': 15, 'input_token_details': {'cache_read': 0}})"
      ]
     },
     "execution_count": 7,
     "metadata": {},
     "output_type": "execute_result"
    }
   ],
   "source": [
    "from langchain.chat_models import init_chat_model\n",
    "\n",
    "model = init_chat_model(\"gemini-2.0-flash\", model_provider=\"google_genai\")\n",
    "model.invoke(\"Hello, world!\")"
   ]
  },
  {
   "cell_type": "code",
   "execution_count": 8,
   "id": "a2834b77",
   "metadata": {},
   "outputs": [
    {
     "name": "stderr",
     "output_type": "stream",
     "text": [
      "k:\\Agentic ai\\provided\\langgraph\\langgraph_env\\Lib\\site-packages\\tqdm\\auto.py:21: TqdmWarning: IProgress not found. Please update jupyter and ipywidgets. See https://ipywidgets.readthedocs.io/en/stable/user_install.html\n",
      "  from .autonotebook import tqdm as notebook_tqdm\n"
     ]
    }
   ],
   "source": [
    "from langchain_pinecone import PineconeVectorStore\n",
    "from pinecone import ServerlessSpec\n",
    "from pinecone import Pinecone\n",
    "pc = Pinecone(api_key='pcsk_7iLkS_Q1viNogmFDoZMSdUK8X5YpTJZimcRGqUqzVaT83spSBfYdFQ7evD593uKhqFurE')\n",
    "if pc.Index(\"langgraph-rag\") is None:\n",
    "    pc.create_index(\n",
    "    name='langgraph-rag',\n",
    "    dimension=768,\n",
    "    metric=\"cosine\",\n",
    "    spec=ServerlessSpec(cloud=\"aws\",region=\"us-east-1\")    \n",
    "    )"
   ]
  },
  {
   "cell_type": "code",
   "execution_count": 9,
   "id": "06fe2fac",
   "metadata": {},
   "outputs": [],
   "source": [
    "index=pc.Index(\"langgraph-rag\")\n",
    "vector_store = PineconeVectorStore(embedding=embeddings, index=index)"
   ]
  },
  {
   "cell_type": "code",
   "execution_count": 10,
   "id": "fe866b9f",
   "metadata": {},
   "outputs": [
    {
     "data": {
      "text/plain": [
       "[Document(id='e67f3c43-0b29-4125-ac66-40863cf5f62b', metadata={'source': 'data2\\\\usa.txt'}, page_content='As of 2024, the United Statesâ€™ nominal GDP is estimated to be around $28 trillion USD, accounting for approximately 25% of the global economy. It ranks #1 in the world by nominal GDP, far ahead of'),\n",
       " Document(id='954e8971-f3f5-4319-a749-45e162861427', metadata={'source': 'data2\\\\usa.txt'}, page_content='As of 2024, the United Statesâ€™ nominal GDP is estimated to be around $28 trillion USD, accounting for approximately 25% of the global economy. It ranks #1 in the world by nominal GDP, far ahead of'),\n",
       " Document(id='792f6998-2be7-4a44-ad14-04cece034a28', metadata={'source': 'data2\\\\usa.txt'}, page_content='The United States of America possesses the largest economy in the world in terms of nominal GDP, making it the most powerful economic force globally. It operates under a capitalist mixed economy,'),\n",
       " Document(id='c9b01d18-d099-4208-a8a6-f2fe1a6e996d', metadata={'source': 'data2\\\\usa.txt'}, page_content='The United States of America possesses the largest economy in the world in terms of nominal GDP, making it the most powerful economic force globally. It operates under a capitalist mixed economy,')]"
      ]
     },
     "execution_count": 10,
     "metadata": {},
     "output_type": "execute_result"
    }
   ],
   "source": [
    "vector_store.add_documents(documents)\n",
    "vector_store.similarity_search(\"Usa gdp?\")"
   ]
  },
  {
   "cell_type": "code",
   "execution_count": 11,
   "id": "8077ebbe",
   "metadata": {},
   "outputs": [],
   "source": [
    "from langchain import hub\n",
    "prompt = hub.pull(\"rlm/rag-prompt\")"
   ]
  },
  {
   "cell_type": "code",
   "execution_count": 12,
   "id": "b498df92",
   "metadata": {},
   "outputs": [
    {
     "name": "stdout",
     "output_type": "stream",
     "text": [
      "[HumanMessagePromptTemplate(prompt=PromptTemplate(input_variables=['context', 'question'], input_types={}, partial_variables={}, template=\"You are an assistant for question-answering tasks. Use the following pieces of retrieved context to answer the question. If you don't know the answer, just say that you don't know. Use three sentences maximum and keep the answer concise.\\nQuestion: {question} \\nContext: {context} \\nAnswer:\"), additional_kwargs={})]\n"
     ]
    }
   ],
   "source": [
    "import pprint\n",
    "pprint.pprint(prompt.messages)"
   ]
  },
  {
   "cell_type": "code",
   "execution_count": 13,
   "id": "431dc298",
   "metadata": {},
   "outputs": [
    {
     "name": "stdout",
     "output_type": "stream",
     "text": [
      "Requirement already satisfied: langchain_core in k:\\agentic ai\\provided\\langgraph\\langgraph_env\\lib\\site-packages (0.3.64)\n",
      "Requirement already satisfied: langsmith<0.4,>=0.3.45 in k:\\agentic ai\\provided\\langgraph\\langgraph_env\\lib\\site-packages (from langchain_core) (0.3.45)\n",
      "Requirement already satisfied: tenacity!=8.4.0,<10.0.0,>=8.1.0 in k:\\agentic ai\\provided\\langgraph\\langgraph_env\\lib\\site-packages (from langchain_core) (9.1.2)\n",
      "Requirement already satisfied: jsonpatch<2.0,>=1.33 in k:\\agentic ai\\provided\\langgraph\\langgraph_env\\lib\\site-packages (from langchain_core) (1.33)\n",
      "Requirement already satisfied: PyYAML>=5.3 in k:\\agentic ai\\provided\\langgraph\\langgraph_env\\lib\\site-packages (from langchain_core) (6.0.2)\n",
      "Requirement already satisfied: packaging<25,>=23.2 in k:\\agentic ai\\provided\\langgraph\\langgraph_env\\lib\\site-packages (from langchain_core) (24.2)\n",
      "Requirement already satisfied: typing-extensions>=4.7 in k:\\agentic ai\\provided\\langgraph\\langgraph_env\\lib\\site-packages (from langchain_core) (4.14.0)\n",
      "Requirement already satisfied: pydantic>=2.7.4 in k:\\agentic ai\\provided\\langgraph\\langgraph_env\\lib\\site-packages (from langchain_core) (2.11.5)\n",
      "Requirement already satisfied: jsonpointer>=1.9 in k:\\agentic ai\\provided\\langgraph\\langgraph_env\\lib\\site-packages (from jsonpatch<2.0,>=1.33->langchain_core) (3.0.0)\n",
      "Requirement already satisfied: httpx<1,>=0.23.0 in k:\\agentic ai\\provided\\langgraph\\langgraph_env\\lib\\site-packages (from langsmith<0.4,>=0.3.45->langchain_core) (0.28.1)\n",
      "Requirement already satisfied: orjson<4.0.0,>=3.9.14 in k:\\agentic ai\\provided\\langgraph\\langgraph_env\\lib\\site-packages (from langsmith<0.4,>=0.3.45->langchain_core) (3.10.18)\n",
      "Requirement already satisfied: requests<3,>=2 in k:\\agentic ai\\provided\\langgraph\\langgraph_env\\lib\\site-packages (from langsmith<0.4,>=0.3.45->langchain_core) (2.32.3)\n",
      "Requirement already satisfied: requests-toolbelt<2.0.0,>=1.0.0 in k:\\agentic ai\\provided\\langgraph\\langgraph_env\\lib\\site-packages (from langsmith<0.4,>=0.3.45->langchain_core) (1.0.0)\n",
      "Requirement already satisfied: zstandard<0.24.0,>=0.23.0 in k:\\agentic ai\\provided\\langgraph\\langgraph_env\\lib\\site-packages (from langsmith<0.4,>=0.3.45->langchain_core) (0.23.0)\n",
      "Requirement already satisfied: annotated-types>=0.6.0 in k:\\agentic ai\\provided\\langgraph\\langgraph_env\\lib\\site-packages (from pydantic>=2.7.4->langchain_core) (0.7.0)\n",
      "Requirement already satisfied: pydantic-core==2.33.2 in k:\\agentic ai\\provided\\langgraph\\langgraph_env\\lib\\site-packages (from pydantic>=2.7.4->langchain_core) (2.33.2)\n",
      "Requirement already satisfied: typing-inspection>=0.4.0 in k:\\agentic ai\\provided\\langgraph\\langgraph_env\\lib\\site-packages (from pydantic>=2.7.4->langchain_core) (0.4.1)\n",
      "Requirement already satisfied: anyio in k:\\agentic ai\\provided\\langgraph\\langgraph_env\\lib\\site-packages (from httpx<1,>=0.23.0->langsmith<0.4,>=0.3.45->langchain_core) (4.9.0)\n",
      "Requirement already satisfied: certifi in k:\\agentic ai\\provided\\langgraph\\langgraph_env\\lib\\site-packages (from httpx<1,>=0.23.0->langsmith<0.4,>=0.3.45->langchain_core) (2025.4.26)\n",
      "Requirement already satisfied: httpcore==1.* in k:\\agentic ai\\provided\\langgraph\\langgraph_env\\lib\\site-packages (from httpx<1,>=0.23.0->langsmith<0.4,>=0.3.45->langchain_core) (1.0.9)\n",
      "Requirement already satisfied: idna in k:\\agentic ai\\provided\\langgraph\\langgraph_env\\lib\\site-packages (from httpx<1,>=0.23.0->langsmith<0.4,>=0.3.45->langchain_core) (3.10)\n",
      "Requirement already satisfied: h11>=0.16 in k:\\agentic ai\\provided\\langgraph\\langgraph_env\\lib\\site-packages (from httpcore==1.*->httpx<1,>=0.23.0->langsmith<0.4,>=0.3.45->langchain_core) (0.16.0)\n",
      "Requirement already satisfied: charset-normalizer<4,>=2 in k:\\agentic ai\\provided\\langgraph\\langgraph_env\\lib\\site-packages (from requests<3,>=2->langsmith<0.4,>=0.3.45->langchain_core) (3.4.2)\n",
      "Requirement already satisfied: urllib3<3,>=1.21.1 in k:\\agentic ai\\provided\\langgraph\\langgraph_env\\lib\\site-packages (from requests<3,>=2->langsmith<0.4,>=0.3.45->langchain_core) (2.4.0)\n",
      "Requirement already satisfied: sniffio>=1.1 in k:\\agentic ai\\provided\\langgraph\\langgraph_env\\lib\\site-packages (from anyio->httpx<1,>=0.23.0->langsmith<0.4,>=0.3.45->langchain_core) (1.3.1)\n"
     ]
    },
    {
     "name": "stderr",
     "output_type": "stream",
     "text": [
      "\n",
      "[notice] A new release of pip is available: 23.1.2 -> 25.1.1\n",
      "[notice] To update, run: python.exe -m pip install --upgrade pip\n"
     ]
    }
   ],
   "source": [
    "!pip install langchain_core"
   ]
  },
  {
   "cell_type": "code",
   "execution_count": 14,
   "id": "667243b4",
   "metadata": {},
   "outputs": [],
   "source": [
    "from langchain_core.prompts import PromptTemplate\n",
    "rag_prompt=PromptTemplate(\n",
    "    template=\"\"\"You are an assistant for question-answering tasks. Use the following pieces of retrieved context to answer the question. If you don't know the answer, just say that you don't know. Use three sentences maximum and keep the answer concise.\\nQuestion: {question} \\nContext: {context} \\n Answer:\"\"\",\n",
    "    input_variables=['context', 'question']\n",
    ")"
   ]
  },
  {
   "cell_type": "code",
   "execution_count": 15,
   "id": "644c8f9f",
   "metadata": {},
   "outputs": [],
   "source": [
    "def format_context(contexts):\n",
    "    return \"\\n\".join([f\"Context {i+1}: {c.page_content}\" for i, c in enumerate(contexts)])"
   ]
  },
  {
   "cell_type": "code",
   "execution_count": 16,
   "id": "537cda71",
   "metadata": {},
   "outputs": [
    {
     "data": {
      "text/plain": [
       "\"The United States' nominal GDP is estimated to be around $28 trillion USD as of 2024. This accounts for approximately 25% of the global economy. The US ranks number one in the world by nominal GDP.\""
      ]
     },
     "execution_count": 16,
     "metadata": {},
     "output_type": "execute_result"
    }
   ],
   "source": [
    "from langchain_core.output_parsers import StrOutputParser\n",
    "from langchain_core.runnables import RunnablePassthrough\n",
    "rag_parser = StrOutputParser()\n",
    "\n",
    "rag_chain =  {\"context\": vector_store.as_retriever() | format_context, \"question\": RunnablePassthrough()} | rag_prompt | model | rag_parser\n",
    "rag_chain.invoke(\"usa gdp?\")\n"
   ]
  },
  {
   "cell_type": "code",
   "execution_count": 17,
   "id": "cb9676ac",
   "metadata": {},
   "outputs": [
    {
     "data": {
      "text/plain": [
       "'The provided context does not contain the answer to the question. Therefore, I do not know the answer.'"
      ]
     },
     "execution_count": 17,
     "metadata": {},
     "output_type": "execute_result"
    }
   ],
   "source": [
    "rag_chain.invoke(\"What is the capital of France?\")"
   ]
  },
  {
   "cell_type": "markdown",
   "id": "f27d34cf",
   "metadata": {},
   "source": [
    "## Defining llm chain"
   ]
  },
  {
   "cell_type": "code",
   "execution_count": 18,
   "id": "92579897",
   "metadata": {},
   "outputs": [],
   "source": [
    "from langchain_core.prompts import PromptTemplate\n",
    "llm_prompt = PromptTemplate(\n",
    "    template=\"\"\"Anwer the follow question with you knowledge of the real world. Following is the user question:  {question}\"\"\",\n",
    "    input_variables=['question']\n",
    ")"
   ]
  },
  {
   "cell_type": "code",
   "execution_count": 19,
   "id": "570fdb9f",
   "metadata": {},
   "outputs": [
    {
     "data": {
      "text/plain": [
       "'Paris'"
      ]
     },
     "execution_count": 19,
     "metadata": {},
     "output_type": "execute_result"
    }
   ],
   "source": [
    "from langchain_core.output_parsers import StrOutputParser\n",
    "rag_parser = StrOutputParser()\n",
    "llm_chain = llm_prompt | model | rag_parser\n",
    "llm_chain.invoke(\"What is the capital of France?\")"
   ]
  },
  {
   "cell_type": "markdown",
   "id": "b8864b48",
   "metadata": {},
   "source": [
    "## Defining tools"
   ]
  },
  {
   "cell_type": "code",
   "execution_count": 20,
   "id": "6d0bd79e",
   "metadata": {},
   "outputs": [],
   "source": [
    "from langchain_community.tools import DuckDuckGoSearchRun"
   ]
  },
  {
   "cell_type": "code",
   "execution_count": 21,
   "id": "1c833ad6",
   "metadata": {},
   "outputs": [
    {
     "name": "stdout",
     "output_type": "stream",
     "text": [
      "Requirement already satisfied: duckduckgo-search in k:\\agentic ai\\provided\\langgraph\\langgraph_env\\lib\\site-packages (8.0.3)\n",
      "Requirement already satisfied: click>=8.1.8 in k:\\agentic ai\\provided\\langgraph\\langgraph_env\\lib\\site-packages (from duckduckgo-search) (8.2.1)\n",
      "Requirement already satisfied: primp>=0.15.0 in k:\\agentic ai\\provided\\langgraph\\langgraph_env\\lib\\site-packages (from duckduckgo-search) (0.15.0)\n",
      "Requirement already satisfied: lxml>=5.3.0 in k:\\agentic ai\\provided\\langgraph\\langgraph_env\\lib\\site-packages (from duckduckgo-search) (5.4.0)\n",
      "Requirement already satisfied: colorama in k:\\agentic ai\\provided\\langgraph\\langgraph_env\\lib\\site-packages (from click>=8.1.8->duckduckgo-search) (0.4.6)\n"
     ]
    },
    {
     "name": "stderr",
     "output_type": "stream",
     "text": [
      "\n",
      "[notice] A new release of pip is available: 23.1.2 -> 25.1.1\n",
      "[notice] To update, run: python.exe -m pip install --upgrade pip\n"
     ]
    }
   ],
   "source": [
    "!pip install -U duckduckgo-search"
   ]
  },
  {
   "cell_type": "code",
   "execution_count": 22,
   "id": "9f97b389",
   "metadata": {},
   "outputs": [
    {
     "data": {
      "text/plain": [
       "'Paris, city and capital of France, located along the Seine River, in the north-central part of the country. Paris is one of the world\\'s most important and attractive cities, famed for its gastronomy, haute couture, painting, literature, and intellectual community. Learn more about Paris in this article. France\\'s capital city lies in the northern part of the country. Believe it or not, it\\'s actually farther north than Montreal! By high-speed train, Paris is just two-and-a-half hours from London, three hours from Brussels, and roughly two hours from Lyon or Bordeaux. There are also plenty of smaller cities nearby worth visiting, including these great day trips from Paris. Here are the capitals of the countries you asked about: France: The capital city is Paris. Who: Paris is the largest city in France and serves as the cultural and political center of the country. What: It is known for landmarks like the Eiffel Tower and the Notre-Dame Cathedral. Where: It is located in the north-central part of France. Germany: The capital city is Berlin. Who: Berlin is known ... Paris (French pronunciation: [paʁi] ) is the capital and largest city of France. With an estimated population of 2,048,472 residents in January 2025 in an area of more than 105 km2 (41 sq mi), Paris is the fourth-most populous city in the European Union and the 30th most densely populated city in the world in 2022. Learn why Paris is the capital of France and how it became the political and cultural hub of the country. Discover the best places to visit, the weather, the food, and the nicknames of the \"City of Light\" and the \"City of Love\".'"
      ]
     },
     "execution_count": 22,
     "metadata": {},
     "output_type": "execute_result"
    }
   ],
   "source": [
    "search = DuckDuckGoSearchRun(output_format=\"json\")\n",
    "search.invoke(\"What is the capital of France?\")"
   ]
  },
  {
   "cell_type": "markdown",
   "id": "523f42cb",
   "metadata": {},
   "source": [
    "## Langgraph orchestration"
   ]
  },
  {
   "cell_type": "code",
   "execution_count": 23,
   "id": "d125f92d",
   "metadata": {},
   "outputs": [],
   "source": [
    "from pydantic import BaseModel, Field"
   ]
  },
  {
   "cell_type": "code",
   "execution_count": 24,
   "id": "2012ebbd",
   "metadata": {},
   "outputs": [],
   "source": [
    "class TopicClassification(BaseModel):\n",
    "    topic: str = Field(description=\"Selected topic\")\n",
    "    reasoning: str = Field(description=\"Reasoning for the topic selection\")"
   ]
  },
  {
   "cell_type": "code",
   "execution_count": 27,
   "id": "f245a513",
   "metadata": {},
   "outputs": [],
   "source": [
    "from typing import TypedDict, Annotated, Sequence\n",
    "from langchain_core.messages import BaseMessage\n",
    "import operator\n",
    "class AgentState(TypedDict):\n",
    "    message: Annotated[Sequence[BaseMessage],operator.add]"
   ]
  },
  {
   "cell_type": "code",
   "execution_count": 62,
   "id": "525acae6",
   "metadata": {},
   "outputs": [],
   "source": [
    "from langchain_core.prompts import PromptTemplate\n",
    "from langchain_core.output_parsers import PydanticOutputParser\n",
    "def classify_topic(state:AgentState):\n",
    "    print(\"<<--Supervisor-->>\")\n",
    "    parser=PydanticOutputParser(pydantic_object=TopicClassification)\n",
    "    prompt = PromptTemplate(\n",
    "        template=\"\"\"You are an expert in topic classification. Given a question, Classify the user query into one of the following categories:\n",
    "\n",
    "1. RAG Node-If the query is related to USA-specific information** that is stored in your internal knowledge base (e.g., US laws, geography, culture, history, etc.)\n",
    "\n",
    "2. Web Crawler-  If the query requires real-time, up-to-date information from the internet (e.g., current events, live scores, latest prices, recent news)\n",
    "\n",
    "3. LLM Node-  If the query requires general reasoning, open-ended generation, or is unrelated to the USA or real-time data (e.g., coding help, creative writing, general knowledge)\n",
    "\n",
    "Respond only with the category name:  \n",
    "`RAG Node`, `Web Crawler`, or `LLM Node`.. Provide your reasoning for the classification.\n",
    "Question: {question} {format_instructions}\"\"\",\n",
    "        input_variables=['question'],\n",
    "        partial_variables={\n",
    "            \"format_instructions\": parser.get_format_instructions(),\n",
    "        }\n",
    "    )\n",
    "    chain = prompt | model | parser\n",
    "    response = chain.invoke({\"question\": state['message'][0]})\n",
    "    return {\"message\": [response.topic]}"
   ]
  },
  {
   "cell_type": "code",
   "execution_count": 34,
   "id": "386e4767",
   "metadata": {},
   "outputs": [
    {
     "data": {
      "text/plain": [
       "{'message': ['LLM Node']}"
      ]
     },
     "execution_count": 34,
     "metadata": {},
     "output_type": "execute_result"
    }
   ],
   "source": [
    "classify_topic({\"message\": [\"What is the capital of France?\"]})"
   ]
  },
  {
   "cell_type": "code",
   "execution_count": 84,
   "id": "e238b051",
   "metadata": {},
   "outputs": [],
   "source": [
    "def router(state: AgentState):\n",
    "    print(\"<<--Router-->>\")\n",
    "    topic = classify_topic(state)\n",
    "    if topic['message'][-1] == \"RAG Node\" or topic['message'][-1] == \"Web Crawler\" or topic['message'][-1] == \"LLM Node\":\n",
    "        return topic[\"message\"][-1]\n",
    "    else:\n",
    "        raise ValueError(\"Unknown topic classification\")\n"
   ]
  },
  {
   "cell_type": "code",
   "execution_count": 91,
   "id": "8b5ed4e4",
   "metadata": {},
   "outputs": [],
   "source": [
    "def llm_node(state: AgentState):\n",
    "    print(\"<<--llm-->>\")\n",
    "    return {'message':[llm_chain.invoke(state['message'][0])]}"
   ]
  },
  {
   "cell_type": "code",
   "execution_count": 96,
   "id": "f695a02f",
   "metadata": {},
   "outputs": [
    {
     "name": "stdout",
     "output_type": "stream",
     "text": [
      "<<--llm-->>\n"
     ]
    },
    {
     "data": {
      "text/plain": [
       "{'message': ['Okay, here\\'s an explanation of blockchain technology, drawing on real-world examples and simplified concepts:\\n\\n**What is Blockchain? (The Core Idea)**\\n\\nImagine a digital ledger, like a shared Google Sheet, that everyone in a group has access to.  Every time someone makes a change (a transaction), it\\'s recorded as a \"block.\"  This block is then linked to the previous block, creating a \"chain\" of records. Because everyone has a copy of the ledger, it\\'s very difficult for someone to cheat or tamper with the records because everyone else would see the discrepancy.\\n\\n*   **Decentralized:**  Instead of being stored in one central location (like a bank\\'s server), the blockchain is distributed across many computers (nodes) in a network.  This makes it more secure and resilient.\\n*   **Immutable:** Once a block is added to the chain, it cannot be easily altered or deleted. This provides a high level of security and transparency.\\n*   **Transparent:**  While not always revealing identities (often using pseudonyms), the transactions themselves are usually visible to everyone on the network.\\n*   **Secure:** Cryptography (complex math) is used to secure the blocks and the links between them, making it extremely difficult to forge transactions.\\n\\n**Key Components Explained:**\\n\\n*   **Blocks:**  A block contains a set of recent transactions, a timestamp (when it was created), and a \"hash\" (a unique fingerprint) of the previous block.\\n*   **Chain:** The blocks are linked together chronologically using the hashes.  If someone tries to change a block, the hash changes, and it no longer matches the hash in the subsequent block, breaking the chain and immediately revealing the tampering.\\n*   **Nodes:** These are the computers that maintain a copy of the blockchain and verify transactions.\\n*   **Mining (Proof-of-Work):** In some blockchains (like Bitcoin), \"miners\" compete to solve complex mathematical problems to validate transactions and add new blocks to the chain. The first miner to solve the problem gets rewarded with cryptocurrency.  This process is called \"Proof-of-Work\" and is designed to make it computationally expensive to tamper with the blockchain.  There are other consensus mechanisms besides Proof-of-Work such as Proof-of-Stake.\\n*   **Smart Contracts:** These are self-executing contracts written in code and stored on the blockchain. They automatically execute when specific conditions are met. Think of them like digital vending machines: you put in the money (meet the conditions), and the product is dispensed (the contract executes).\\n\\n**Real-World Applications (Beyond Cryptocurrency):**\\n\\nWhile often associated with Bitcoin and other cryptocurrencies, blockchain technology has many potential applications across various industries:\\n\\n*   **Supply Chain Management:**  Tracking goods from origin to consumer. Imagine tracking a coffee bean from the farm to your cup, ensuring fair trade practices and authenticating its origin. Walmart uses blockchain to track the provenance of its produce, improving food safety and reducing waste.\\n*   **Healthcare:** Securely storing and sharing medical records. Patients could have more control over their data, and doctors could have access to a more complete and accurate medical history.\\n*   **Voting Systems:**  Creating more secure and transparent voting processes.  Blockchain could help prevent voter fraud and ensure the integrity of elections.\\n*   **Digital Identity:** Managing and verifying digital identities in a secure and decentralized way.  This could simplify online transactions and reduce identity theft.\\n*   **Land Registry:**  Recording and tracking property ownership. This can reduce fraud and streamline the property transfer process.\\n*   **Intellectual Property Protection:**  Registering and tracking ownership of creative works, like music or art.\\n*   **Financial Services:** Streamlining cross-border payments, reducing fraud, and improving transparency in financial transactions.\\n\\n**Benefits of Blockchain:**\\n\\n*   **Increased Transparency:** All transactions are recorded and visible to participants.\\n*   **Enhanced Security:** Difficult to tamper with due to its decentralized and cryptographic nature.\\n*   **Improved Efficiency:** Streamlines processes and reduces the need for intermediaries.\\n*   **Reduced Costs:** Eliminates the need for central authorities and reduces transaction fees.\\n*   **Greater Trust:** Fosters trust among participants by providing a shared, verifiable record of transactions.\\n\\n**Challenges of Blockchain:**\\n\\n*   **Scalability:** Some blockchains can be slow and inefficient when handling a large volume of transactions. (This is being addressed with newer blockchain technologies).\\n*   **Regulation:**  The legal and regulatory landscape for blockchain technology is still evolving.\\n*   **Complexity:**  Developing and implementing blockchain solutions can be complex and require specialized expertise.\\n*   **Energy Consumption:** Some blockchain technologies, like Bitcoin\\'s Proof-of-Work, consume a significant amount of energy. (More efficient consensus mechanisms are being developed).\\n*   **Immutability Concerns:** While immutability is a benefit, it also means that errors or fraudulent transactions cannot be easily reversed.\\n\\n**In Summary:**\\n\\nBlockchain is a revolutionary technology with the potential to transform many industries. It provides a secure, transparent, and decentralized way to record and share information. While still facing challenges, its potential benefits are significant, and it is likely to play an increasingly important role in the future. Think of it as a foundation for building more trustworthy and efficient systems in a digital world.']}"
      ]
     },
     "execution_count": 96,
     "metadata": {},
     "output_type": "execute_result"
    }
   ],
   "source": [
    "llm_node({\"message\": [\"Can you explain about the block chain technology?\"]})"
   ]
  },
  {
   "cell_type": "code",
   "execution_count": 116,
   "id": "c0c0595f",
   "metadata": {},
   "outputs": [],
   "source": [
    "def rag_node(state: AgentState):\n",
    "    print(\"<<--rag-->>\")\n",
    "    return {'message':[rag_chain.invoke(state['message'][0])]}"
   ]
  },
  {
   "cell_type": "code",
   "execution_count": 95,
   "id": "7b96eba9",
   "metadata": {},
   "outputs": [
    {
     "name": "stdout",
     "output_type": "stream",
     "text": [
      "<<--rag-->>\n"
     ]
    },
    {
     "data": {
      "text/plain": [
       "{'message': ['The United States of America has the largest economy in the world in terms of nominal GDP, making it the most powerful economic force globally. It operates under a capitalist mixed economy. The U.S. GDP per capita is also among the highest, around $83,000.']}"
      ]
     },
     "execution_count": 95,
     "metadata": {},
     "output_type": "execute_result"
    }
   ],
   "source": [
    "rag_node({\"message\": [\"USA?\"]})"
   ]
  },
  {
   "cell_type": "code",
   "execution_count": 93,
   "id": "a03cc832",
   "metadata": {},
   "outputs": [],
   "source": [
    "def web_crawler_node(state: AgentState):\n",
    "    print(\"<<--web-->>\")\n",
    "    return {'message':[search.invoke(state['message'][-1])]}"
   ]
  },
  {
   "cell_type": "code",
   "execution_count": 94,
   "id": "a281c618",
   "metadata": {},
   "outputs": [
    {
     "name": "stdout",
     "output_type": "stream",
     "text": [
      "<<--web-->>\n"
     ]
    },
    {
     "data": {
      "text/plain": [
       "{'message': [\"NEW YORK (AP) — Craft labels from the now-shuttered fabrics seller Joann are making their way to a new home: Michaels. The Michaels Companies announced on Thursday that it had completed its purchase of Joann's intellectual property and private label brands — in an acquisition that arrives as the Texas-based crafting chain works to expand ... Here's a look at some of the top stories trending online today, June 10. They include the latest news on protests against ICE in California, Apples new product announcements and much more. Live updates on today's local & national top stories: politics, entertainment, sports, health & safety news with summaries, numbers, videos, and news facts. The latest breaking news stories from Forbes.com. Subscribe To Newsletters. Forbes Business Breaking News. Breaking News. 5 hours ago ... TRENDING 10 hours ago. Northern Lights Forecast: These 15 ... Reuters.com is your online source for the latest world news stories and current events, ensuring our readers up to date with any breaking news developments\"]}"
      ]
     },
     "execution_count": 94,
     "metadata": {},
     "output_type": "execute_result"
    }
   ],
   "source": [
    "web_crawler_node({\"message\": [\"What are the trending news today?\"]})"
   ]
  },
  {
   "cell_type": "code",
   "execution_count": 117,
   "id": "ac0511f4",
   "metadata": {},
   "outputs": [
    {
     "data": {
      "text/plain": [
       "<langgraph.graph.state.StateGraph at 0x24743dec450>"
      ]
     },
     "execution_count": 117,
     "metadata": {},
     "output_type": "execute_result"
    }
   ],
   "source": [
    "from langgraph.graph import StateGraph,END\n",
    "\n",
    "graph = StateGraph(AgentState)\n",
    "graph.add_node(\"Supervisor\", classify_topic)\n",
    "graph.add_node(\"rag_node\", rag_node)\n",
    "graph.add_node(\"web_crawler_node\", web_crawler_node)\n",
    "graph.add_node(\"llm_node\", llm_node)"
   ]
  },
  {
   "cell_type": "code",
   "execution_count": 118,
   "id": "e8e654e9",
   "metadata": {},
   "outputs": [
    {
     "data": {
      "text/plain": [
       "<langgraph.graph.state.StateGraph at 0x24743dec450>"
      ]
     },
     "execution_count": 118,
     "metadata": {},
     "output_type": "execute_result"
    }
   ],
   "source": [
    "graph.set_entry_point(\"Supervisor\")"
   ]
  },
  {
   "cell_type": "code",
   "execution_count": 119,
   "id": "38e48f21",
   "metadata": {},
   "outputs": [
    {
     "data": {
      "text/plain": [
       "<langgraph.graph.state.StateGraph at 0x24743dec450>"
      ]
     },
     "execution_count": 119,
     "metadata": {},
     "output_type": "execute_result"
    }
   ],
   "source": [
    "graph.add_conditional_edges(\n",
    "    \"Supervisor\",\n",
    "    router,\n",
    "    {\n",
    "        \"RAG Node\": \"rag_node\",\n",
    "        \"Web Crawler\": \"web_crawler_node\",\n",
    "        \"LLM Node\": \"llm_node\"\n",
    "    }\n",
    ")"
   ]
  },
  {
   "cell_type": "code",
   "execution_count": 120,
   "id": "06d2fe69",
   "metadata": {},
   "outputs": [
    {
     "data": {
      "text/plain": [
       "<langgraph.graph.state.StateGraph at 0x24743dec450>"
      ]
     },
     "execution_count": 120,
     "metadata": {},
     "output_type": "execute_result"
    }
   ],
   "source": [
    "graph.add_edge(\"rag_node\",END)\n",
    "graph.add_edge(\"web_crawler_node\",END)\n",
    "graph.add_edge(\"llm_node\",END)"
   ]
  },
  {
   "cell_type": "code",
   "execution_count": 121,
   "id": "dd70c94e",
   "metadata": {},
   "outputs": [],
   "source": [
    "app=graph.compile()"
   ]
  },
  {
   "cell_type": "code",
   "execution_count": 122,
   "id": "6b6579b1",
   "metadata": {},
   "outputs": [
    {
     "data": {
      "image/png": "[encoded data removed]",
      "text/plain": [
       "<IPython.core.display.Image object>"
      ]
     },
     "metadata": {},
     "output_type": "display_data"
    }
   ],
   "source": [
    "from IPython.display import display, Image\n",
    "display(Image(app.get_graph().draw_mermaid_png()))"
   ]
  },
  {
   "cell_type": "code",
   "execution_count": 123,
   "id": "dcffbfd2",
   "metadata": {},
   "outputs": [
    {
     "name": "stdout",
     "output_type": "stream",
     "text": [
      "<<--Supervisor-->>\n",
      "<<--Router-->>\n",
      "<<--Supervisor-->>\n",
      "<<--rag-->>\n"
     ]
    }
   ],
   "source": [
    "answer=app.invoke({\"message\": [\"About USA?\"]})"
   ]
  },
  {
   "cell_type": "code",
   "execution_count": 124,
   "id": "56e70c67",
   "metadata": {},
   "outputs": [
    {
     "data": {
      "text/plain": [
       "{'message': ['About USA?',\n",
       "  'RAG Node',\n",
       "  'The United States of America has the largest economy in the world in terms of nominal GDP, making it the most powerful economic force globally. It operates under a capitalist mixed economy. The U.S. GDP per capita is also among the highest, around $83,000.']}"
      ]
     },
     "execution_count": 124,
     "metadata": {},
     "output_type": "execute_result"
    }
   ],
   "source": [
    "answer"
   ]
  },
  {
   "cell_type": "code",
   "execution_count": null,
   "id": "99ef09fd",
   "metadata": {},
   "outputs": [],
   "source": []
  }
 ],
 "metadata": {
  "kernelspec": {
   "display_name": "langgraph_env",
   "language": "python",
   "name": "python3"
  },
  "language_info": {
   "codemirror_mode": {
    "name": "ipython",
    "version": 3
   },
   "file_extension": ".py",
   "mimetype": "text/x-python",
   "name": "python",
   "nbconvert_exporter": "python",
   "pygments_lexer": "ipython3",
   "version": "3.11.4"
  }
 },
 "nbformat": 4,
 "nbformat_minor": 5
}
