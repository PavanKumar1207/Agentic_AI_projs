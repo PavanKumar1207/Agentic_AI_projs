{
 "cells": [
  {
   "cell_type": "code",
   "execution_count": 2,
   "id": "5a4f2b1a",
   "metadata": {},
   "outputs": [],
   "source": [
    "from pydantic import BaseModel"
   ]
  },
  {
   "cell_type": "code",
   "execution_count": 4,
   "id": "379d9efb",
   "metadata": {},
   "outputs": [],
   "source": [
    "\n",
    "class Classroom(BaseModel):\n",
    "    room_number:str\n",
    "    students: list[str]\n",
    "    capacity:int"
   ]
  },
  {
   "cell_type": "code",
   "execution_count": 7,
   "id": "5ee4c018",
   "metadata": {},
   "outputs": [
    {
     "data": {
      "text/plain": [
       "Classroom(room_number='23', students=['3', '4'], capacity=4)"
      ]
     },
     "execution_count": 7,
     "metadata": {},
     "output_type": "execute_result"
    }
   ],
   "source": [
    "cls=Classroom(room_number=\"23\",students=['3','4'],capacity=4)\n",
    "cls"
   ]
  },
  {
   "cell_type": "code",
   "execution_count": 9,
   "id": "b0f96822",
   "metadata": {},
   "outputs": [
    {
     "data": {
      "text/plain": [
       "Classroom(room_number='23', students=['3', '4'], capacity=4)"
      ]
     },
     "execution_count": 9,
     "metadata": {},
     "output_type": "execute_result"
    }
   ],
   "source": [
    "cls=Classroom(room_number=\"23\",students=['3','4'],capacity=\"4\")\n",
    "cls"
   ]
  },
  {
   "cell_type": "code",
   "execution_count": 12,
   "id": "af178d9a",
   "metadata": {},
   "outputs": [],
   "source": [
    "from typing import Optional\n",
    "\n",
    "class Classroom(BaseModel):\n",
    "    room_number:str\n",
    "    students: list[str]\n",
    "    capacity:Optional[int]=0\n"
   ]
  },
  {
   "cell_type": "code",
   "execution_count": 14,
   "id": "3f9da785",
   "metadata": {},
   "outputs": [
    {
     "data": {
      "text/plain": [
       "Classroom(room_number='23', students=['3', '4'], capacity=0)"
      ]
     },
     "execution_count": 14,
     "metadata": {},
     "output_type": "execute_result"
    }
   ],
   "source": [
    "cls=Classroom(room_number=\"23\",students=['3','4'])\n",
    "cls"
   ]
  },
  {
   "cell_type": "code",
   "execution_count": 15,
   "id": "d5808c88",
   "metadata": {},
   "outputs": [],
   "source": [
    "from pydantic import BaseModel\n",
    "from typing import Optional\n",
    "class Address(BaseModel):\n",
    "    street:str\n",
    "    city:str\n",
    "    zip_code:str\n",
    "class Customer(BaseModel):\n",
    "    name:str\n",
    "    age:int\n",
    "    address:Address\n"
   ]
  },
  {
   "cell_type": "code",
   "execution_count": 16,
   "id": "c1381792",
   "metadata": {},
   "outputs": [
    {
     "data": {
      "text/plain": [
       "Customer(name='pavan', age=19, address=Address(street='Man', city='45', zip_code='344'))"
      ]
     },
     "execution_count": 16,
     "metadata": {},
     "output_type": "execute_result"
    }
   ],
   "source": [
    "cus=Customer(name=\"pavan\",age=19,address={\"street\":\"Man\",\"city\":\"45\",\"zip_code\":\"344\"})\n",
    "cus"
   ]
  },
  {
   "cell_type": "code",
   "execution_count": 17,
   "id": "2062732a",
   "metadata": {},
   "outputs": [],
   "source": [
    "class Address(BaseModel):\n",
    "    street:Optional[str]=\"null\"\n",
    "    city:Optional[str]=\"null\"\n",
    "    zip_code:Optional[str]='null'\n",
    "class Customer(BaseModel):\n",
    "    name:str\n",
    "    age:int\n",
    "    address:Address"
   ]
  },
  {
   "cell_type": "code",
   "execution_count": 21,
   "id": "22eb12c7",
   "metadata": {},
   "outputs": [
    {
     "data": {
      "text/plain": [
       "Customer(name='pavan', age=19, address=Address(street='Man', city='45', zip_code='344'))"
      ]
     },
     "execution_count": 21,
     "metadata": {},
     "output_type": "execute_result"
    }
   ],
   "source": [
    "cus=Customer(name=\"pavan\",age=19,address={\"street\":\"Man\",\"city\":\"45\",\"zip_code\":\"344\"})\n",
    "cus"
   ]
  },
  {
   "cell_type": "code",
   "execution_count": 23,
   "id": "045be42b",
   "metadata": {},
   "outputs": [
    {
     "data": {
      "text/plain": [
       "Item(name='pavan', price=39.0, quantity=80)"
      ]
     },
     "execution_count": 23,
     "metadata": {},
     "output_type": "execute_result"
    }
   ],
   "source": [
    "from pydantic import BaseModel,Field\n",
    "\n",
    "class Item(BaseModel):\n",
    "    name:str=Field(min_length=2,max_length=20)\n",
    "    price:float=Field(gt=0,le=1000)\n",
    "    quantity:int=Field(ge=0)\n",
    "item=Item(name=\"pavan\",price=39,quantity=80)\n",
    "item"
   ]
  },
  {
   "cell_type": "code",
   "execution_count": 27,
   "id": "8eb80763",
   "metadata": {},
   "outputs": [
    {
     "name": "stdout",
     "output_type": "stream",
     "text": [
      "1 validation error for Item\n",
      "quantity\n",
      "  Input should be greater than or equal to 0 [type=greater_than_equal, input_value=-30, input_type=int]\n",
      "    For further information visit https://errors.pydantic.dev/2.11/v/greater_than_equal\n"
     ]
    }
   ],
   "source": [
    "try:\n",
    "    item = Item(name=\"pavan\", price=39, quantity=-30)\n",
    "    print(item)\n",
    "except ValueError as e: \n",
    "    print(e)            \n"
   ]
  },
  {
   "cell_type": "code",
   "execution_count": null,
   "id": "66cc1568",
   "metadata": {},
   "outputs": [],
   "source": []
  }
 ],
 "metadata": {
  "kernelspec": {
   "display_name": "Python 3",
   "language": "python",
   "name": "python3"
  },
  "language_info": {
   "codemirror_mode": {
    "name": "ipython",
    "version": 3
   },
   "file_extension": ".py",
   "mimetype": "text/x-python",
   "name": "python",
   "nbconvert_exporter": "python",
   "pygments_lexer": "ipython3",
   "version": "3.12.9"
  }
 },
 "nbformat": 4,
 "nbformat_minor": 5
}
